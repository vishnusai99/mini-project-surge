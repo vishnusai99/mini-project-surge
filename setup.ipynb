{
 "cells": [
  {
   "cell_type": "code",
   "execution_count": 1,
   "id": "9ab5ab00-cc92-42d6-a44d-c572d9206da2",
   "metadata": {},
   "outputs": [
    {
     "ename": "NameError",
     "evalue": "name '__file__' is not defined",
     "output_type": "error",
     "traceback": [
      "\u001b[0;31m---------------------------------------------------------------------------\u001b[0m",
      "\u001b[0;31mNameError\u001b[0m                                 Traceback (most recent call last)",
      "Cell \u001b[0;32mIn[1], line 8\u001b[0m\n\u001b[1;32m      5\u001b[0m \u001b[38;5;28;01mfrom\u001b[39;00m \u001b[38;5;21;01msetuptools\u001b[39;00m \u001b[38;5;28;01mimport\u001b[39;00m setup, find_packages\n\u001b[1;32m      6\u001b[0m \u001b[38;5;28;01mfrom\u001b[39;00m \u001b[38;5;21;01mos\u001b[39;00m \u001b[38;5;28;01mimport\u001b[39;00m chdir, path, environ\n\u001b[0;32m----> 8\u001b[0m chdir(path\u001b[38;5;241m.\u001b[39mabspath(path\u001b[38;5;241m.\u001b[39mdirname(\u001b[38;5;18m__file__\u001b[39m)))\n\u001b[1;32m      9\u001b[0m version \u001b[38;5;241m=\u001b[39m \u001b[38;5;28m__import__\u001b[39m(\u001b[38;5;124m\"\u001b[39m\u001b[38;5;124mreco_utils.__init__\u001b[39m\u001b[38;5;124m\"\u001b[39m)\u001b[38;5;241m.\u001b[39mVERSION\n\u001b[1;32m     11\u001b[0m \u001b[38;5;66;03m# Get the long description from the README file\u001b[39;00m\n",
      "\u001b[0;31mNameError\u001b[0m: name '__file__' is not defined"
     ]
    }
   ],
   "source": [
    "# Copyright (c) Microsoft Corporation. All rights reserved.\n",
    "# Licensed under the MIT License.\n",
    "\n",
    "import time\n",
    "from setuptools import setup, find_packages\n",
    "from os import chdir, path, environ\n",
    "\n",
    "chdir(path.abspath(path.dirname(__file__)))\n",
    "version = __import__(\"reco_utils.__init__\").VERSION\n",
    "\n",
    "# Get the long description from the README file\n",
    "with open(path.join(\"reco_utils\", \"README.md\"), encoding=\"utf-8\") as f:\n",
    "    LONG_DESCRIPTION = f.read()\n",
    "\n",
    "HASH = environ.get(\"HASH\", None)\n",
    "if HASH is not None:\n",
    "    version += \".post\" + str(int(time.time()))\n",
    "\n",
    "name = environ.get(\"LIBRARY_NAME\", \"reco_utils\")\n",
    "\n",
    "setup(\n",
    "    name=name,\n",
    "    version=version,\n",
    "    description=\"Recommender System Utilities\",\n",
    "    long_description=LONG_DESCRIPTION,\n",
    "    long_description_content_type=\"text/markdown\",\n",
    "    url=\"https://github.com/microsoft/recommenders\",\n",
    "    author=\"RecoDev Team at Microsoft\",\n",
    "    author_email=\"RecoDevTeam@service.microsoft.com\",\n",
    "    classifiers=[\n",
    "        \"Development Status :: 4 - Beta\",\n",
    "        \"Intended Audience :: Developers\",\n",
    "        \"Intended Audience :: Science/Research\",\n",
    "        \"Topic :: Scientific/Engineering\",\n",
    "        \"Topic :: Software Development :: Libraries :: Python Modules\",\n",
    "        \"License :: OSI Approved :: MIT License\",\n",
    "        \"Programming Language :: Python :: 3.6\",\n",
    "    ],\n",
    "    keywords=\"recommendations recommenders recommender system engine machine learning python spark gpu\",\n",
    "    package_dir={\"reco_utils\": \"reco_utils\"},\n",
    "    packages=find_packages(where=\".\", exclude=[\"tests\", \"tools\", \"examples\"]),\n",
    "    python_requires=\">=3.6, <4\",\n",
    ")\n"
   ]
  },
  {
   "cell_type": "code",
   "execution_count": null,
   "id": "f71f1f6b-867a-46a1-a117-69606c35f273",
   "metadata": {},
   "outputs": [],
   "source": []
  }
 ],
 "metadata": {
  "kernelspec": {
   "display_name": "Python 3 (ipykernel)",
   "language": "python",
   "name": "python3"
  },
  "language_info": {
   "codemirror_mode": {
    "name": "ipython",
    "version": 3
   },
   "file_extension": ".py",
   "mimetype": "text/x-python",
   "name": "python",
   "nbconvert_exporter": "python",
   "pygments_lexer": "ipython3",
   "version": "3.11.5"
  }
 },
 "nbformat": 4,
 "nbformat_minor": 5
}
